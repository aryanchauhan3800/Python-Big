{
 "cells": [
  {
   "cell_type": "code",
   "execution_count": 12,
   "id": "0b5e0979-5232-42a8-8c83-4d4b31e13555",
   "metadata": {},
   "outputs": [
    {
     "name": "stdout",
     "output_type": "stream",
     "text": [
      "{1, 2, 3, 4, 'aryan'}\n"
     ]
    },
    {
     "data": {
      "text/plain": [
       "set"
      ]
     },
     "execution_count": 12,
     "metadata": {},
     "output_type": "execute_result"
    }
   ],
   "source": [
    "set={1,2,4,4,3,\"aryan\"}\n",
    "print(set)\n",
    "type(set)"
   ]
  },
  {
   "cell_type": "code",
   "execution_count": 23,
   "id": "e2911540-f3ac-4db2-910c-9b50db485058",
   "metadata": {},
   "outputs": [],
   "source": [
    "import numpy as np"
   ]
  },
  {
   "cell_type": "code",
   "execution_count": 24,
   "id": "24a73016-e3d2-4c37-9a9d-ae2c8db98863",
   "metadata": {},
   "outputs": [],
   "source": [
    "list= [1,2,3,4,\"Aryan singh chauhan\"]\n",
    "arr=np.array(list)"
   ]
  },
  {
   "cell_type": "code",
   "execution_count": 25,
   "id": "1f06b2d8-d3c3-4f84-9856-7f45966f468b",
   "metadata": {},
   "outputs": [
    {
     "data": {
      "text/plain": [
       "numpy.ndarray"
      ]
     },
     "execution_count": 25,
     "metadata": {},
     "output_type": "execute_result"
    }
   ],
   "source": [
    "type(arr)"
   ]
  },
  {
   "cell_type": "code",
   "execution_count": 26,
   "id": "9f830daf-56a5-41f2-b64e-6af3635c4895",
   "metadata": {},
   "outputs": [
    {
     "data": {
      "text/plain": [
       "array(['1', '2', '3', '4', 'Aryan singh chauhan'], dtype='<U21')"
      ]
     },
     "execution_count": 26,
     "metadata": {},
     "output_type": "execute_result"
    }
   ],
   "source": [
    "arr"
   ]
  },
  {
   "cell_type": "code",
   "execution_count": 27,
   "id": "0a8d68d0-aa28-4b0e-b781-4ed7548883ec",
   "metadata": {},
   "outputs": [
    {
     "data": {
      "text/plain": [
       "(5,)"
      ]
     },
     "execution_count": 27,
     "metadata": {},
     "output_type": "execute_result"
    }
   ],
   "source": [
    "arr.shape"
   ]
  },
  {
   "cell_type": "code",
   "execution_count": 29,
   "id": "60f2858c-ec5b-48d4-a637-c8a377c343db",
   "metadata": {},
   "outputs": [],
   "source": [
    "my_list1=[1,2,3]\n",
    "my_List2=[12,2,3]\n",
    "my_listy3=[1,2,3]\n",
    "arr1=np.array([my_list1,my_List2,my_listy3])"
   ]
  },
  {
   "cell_type": "code",
   "execution_count": 30,
   "id": "6100cde2-d74e-4765-b173-ed89d404c339",
   "metadata": {},
   "outputs": [
    {
     "data": {
      "text/plain": [
       "array([[ 1,  2,  3],\n",
       "       [12,  2,  3],\n",
       "       [ 1,  2,  3]])"
      ]
     },
     "execution_count": 30,
     "metadata": {},
     "output_type": "execute_result"
    }
   ],
   "source": [
    "arr1"
   ]
  },
  {
   "cell_type": "code",
   "execution_count": null,
   "id": "0327e144-2c33-4dc8-8b44-00092cfefe25",
   "metadata": {},
   "outputs": [],
   "source": [
    "a"
   ]
  },
  {
   "cell_type": "code",
   "execution_count": null,
   "id": "c5688b37-80f2-4edc-ad7a-a9ca89e19ad5",
   "metadata": {},
   "outputs": [],
   "source": []
  }
 ],
 "metadata": {
  "kernelspec": {
   "display_name": "Python 3 (ipykernel)",
   "language": "python",
   "name": "python3"
  },
  "language_info": {
   "codemirror_mode": {
    "name": "ipython",
    "version": 3
   },
   "file_extension": ".py",
   "mimetype": "text/x-python",
   "name": "python",
   "nbconvert_exporter": "python",
   "pygments_lexer": "ipython3",
   "version": "3.13.5"
  }
 },
 "nbformat": 4,
 "nbformat_minor": 5
}
